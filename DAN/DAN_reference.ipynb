{
 "cells": [
  {
   "cell_type": "markdown",
   "metadata": {
    "id": "vM85j1-ZX8RZ"
   },
   "source": [
    "To begin copy this notebook to your own drive:\n",
    "\n",
    "![image.png](data:image/png;base64,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)\n",
    "\n",
    "\n",
    "### Submission Instructions:\n",
    "1. **Restart the kernel** (in the menubar, select Runtime$\\rightarrow$Restart runtime)\n",
    "2. **Download the notebook** (in the menubar, select File$\\rightarrow$Download .ipynb)\n",
    "3. **Upload the downloaded notebook (.ipynb file) to your repository**.\n",
    "\n",
    "\n",
    "Make sure you fill in any place that says `YOUR CODE HERE`, and that no tests fail.  \n",
    "\n",
    "Note: To use a GPU, do the following: Runtime$\\rightarrow$Change runtime type$\\rightarrow$ GPU"
   ]
  },
  {
   "cell_type": "code",
   "execution_count": 1,
   "metadata": {
    "colab": {
     "base_uri": "https://localhost:8080/"
    },
    "id": "BOtck6n09468",
    "outputId": "bbd705a8-eeb5-4460-fe38-40827d84fc08"
   },
   "outputs": [
    {
     "name": "stderr",
     "output_type": "stream",
     "text": [
      "Permission denied: https://drive.google.com/uc?export=download&id=1PFOG06NEsTL6VieKQjMk1oNzyzcUtiWn\n",
      "Maybe you need to change permission over 'Anyone with the link'?\n"
     ]
    },
    {
     "name": "stdout",
     "output_type": "stream",
     "text": [
      "[nltk_data] Downloading package punkt to /root/nltk_data...\n",
      "[nltk_data]   Package punkt is already up-to-date!\n"
     ]
    },
    {
     "name": "stderr",
     "output_type": "stream",
     "text": [
      "Permission denied: https://drive.google.com/uc?export=download&id=1-3SxpirQjmX-RCRyRjKdP2L7G_tNgp00\n",
      "Maybe you need to change permission over 'Anyone with the link'?\n"
     ]
    },
    {
     "data": {
      "text/plain": [
       "True"
      ]
     },
     "execution_count": 1,
     "metadata": {},
     "output_type": "execute_result"
    }
   ],
   "source": [
    "import gdown\n",
    "import nltk\n",
    "gdown.download('https://drive.google.com/uc?export=download&id=1PFOG06NEsTL6VieKQjMk1oNzyzcUtiWn', 'glove.npy', quiet=False)\n",
    "gdown.download('https://drive.google.com/uc?export=download&id=1-3SxpirQjmX-RCRyRjKdP2L7G_tNgp00', 'vocab.json', quiet=False)\n",
    "\n",
    "nltk.download('punkt')"
   ]
  },
  {
   "cell_type": "code",
   "execution_count": 2,
   "metadata": {
    "colab": {
     "base_uri": "https://localhost:8080/"
    },
    "id": "WbkSh2AW-tpN",
    "outputId": "d4aeb4d8-90f2-47a1-8220-6b537adb53f6"
   },
   "outputs": [
    {
     "name": "stdout",
     "output_type": "stream",
     "text": [
      "Requirement already satisfied: datasets in /usr/local/lib/python3.7/dist-packages (1.16.1)\n",
      "Requirement already satisfied: tqdm>=4.62.1 in /usr/local/lib/python3.7/dist-packages (from datasets) (4.62.3)\n",
      "Requirement already satisfied: multiprocess in /usr/local/lib/python3.7/dist-packages (from datasets) (0.70.12.2)\n",
      "Requirement already satisfied: fsspec[http]>=2021.05.0 in /usr/local/lib/python3.7/dist-packages (from datasets) (2021.11.1)\n",
      "Requirement already satisfied: requests>=2.19.0 in /usr/local/lib/python3.7/dist-packages (from datasets) (2.23.0)\n",
      "Requirement already satisfied: xxhash in /usr/local/lib/python3.7/dist-packages (from datasets) (2.0.2)\n",
      "Requirement already satisfied: numpy>=1.17 in /usr/local/lib/python3.7/dist-packages (from datasets) (1.19.5)\n",
      "Requirement already satisfied: aiohttp in /usr/local/lib/python3.7/dist-packages (from datasets) (3.8.1)\n",
      "Requirement already satisfied: packaging in /usr/local/lib/python3.7/dist-packages (from datasets) (21.3)\n",
      "Requirement already satisfied: dill in /usr/local/lib/python3.7/dist-packages (from datasets) (0.3.4)\n",
      "Requirement already satisfied: importlib-metadata in /usr/local/lib/python3.7/dist-packages (from datasets) (4.8.2)\n",
      "Requirement already satisfied: pandas in /usr/local/lib/python3.7/dist-packages (from datasets) (1.1.5)\n",
      "Requirement already satisfied: pyarrow!=4.0.0,>=3.0.0 in /usr/local/lib/python3.7/dist-packages (from datasets) (3.0.0)\n",
      "Requirement already satisfied: huggingface-hub<1.0.0,>=0.1.0 in /usr/local/lib/python3.7/dist-packages (from datasets) (0.1.2)\n",
      "Requirement already satisfied: filelock in /usr/local/lib/python3.7/dist-packages (from huggingface-hub<1.0.0,>=0.1.0->datasets) (3.4.0)\n",
      "Requirement already satisfied: pyyaml in /usr/local/lib/python3.7/dist-packages (from huggingface-hub<1.0.0,>=0.1.0->datasets) (6.0)\n",
      "Requirement already satisfied: typing-extensions>=3.7.4.3 in /usr/local/lib/python3.7/dist-packages (from huggingface-hub<1.0.0,>=0.1.0->datasets) (3.10.0.2)\n",
      "Requirement already satisfied: pyparsing!=3.0.5,>=2.0.2 in /usr/local/lib/python3.7/dist-packages (from packaging->datasets) (3.0.6)\n",
      "Requirement already satisfied: certifi>=2017.4.17 in /usr/local/lib/python3.7/dist-packages (from requests>=2.19.0->datasets) (2021.10.8)\n",
      "Requirement already satisfied: urllib3!=1.25.0,!=1.25.1,<1.26,>=1.21.1 in /usr/local/lib/python3.7/dist-packages (from requests>=2.19.0->datasets) (1.24.3)\n",
      "Requirement already satisfied: chardet<4,>=3.0.2 in /usr/local/lib/python3.7/dist-packages (from requests>=2.19.0->datasets) (3.0.4)\n",
      "Requirement already satisfied: idna<3,>=2.5 in /usr/local/lib/python3.7/dist-packages (from requests>=2.19.0->datasets) (2.10)\n",
      "Requirement already satisfied: aiosignal>=1.1.2 in /usr/local/lib/python3.7/dist-packages (from aiohttp->datasets) (1.2.0)\n",
      "Requirement already satisfied: asynctest==0.13.0 in /usr/local/lib/python3.7/dist-packages (from aiohttp->datasets) (0.13.0)\n",
      "Requirement already satisfied: yarl<2.0,>=1.0 in /usr/local/lib/python3.7/dist-packages (from aiohttp->datasets) (1.7.2)\n",
      "Requirement already satisfied: charset-normalizer<3.0,>=2.0 in /usr/local/lib/python3.7/dist-packages (from aiohttp->datasets) (2.0.7)\n",
      "Requirement already satisfied: async-timeout<5.0,>=4.0.0a3 in /usr/local/lib/python3.7/dist-packages (from aiohttp->datasets) (4.0.1)\n",
      "Requirement already satisfied: multidict<7.0,>=4.5 in /usr/local/lib/python3.7/dist-packages (from aiohttp->datasets) (5.2.0)\n",
      "Requirement already satisfied: attrs>=17.3.0 in /usr/local/lib/python3.7/dist-packages (from aiohttp->datasets) (21.2.0)\n",
      "Requirement already satisfied: frozenlist>=1.1.1 in /usr/local/lib/python3.7/dist-packages (from aiohttp->datasets) (1.2.0)\n",
      "Requirement already satisfied: zipp>=0.5 in /usr/local/lib/python3.7/dist-packages (from importlib-metadata->datasets) (3.6.0)\n",
      "Requirement already satisfied: pytz>=2017.2 in /usr/local/lib/python3.7/dist-packages (from pandas->datasets) (2018.9)\n",
      "Requirement already satisfied: python-dateutil>=2.7.3 in /usr/local/lib/python3.7/dist-packages (from pandas->datasets) (2.8.2)\n",
      "Requirement already satisfied: six>=1.5 in /usr/local/lib/python3.7/dist-packages (from python-dateutil>=2.7.3->pandas->datasets) (1.15.0)\n",
      "Requirement already satisfied: transformers in /usr/local/lib/python3.7/dist-packages (4.12.5)\n",
      "Requirement already satisfied: tqdm>=4.27 in /usr/local/lib/python3.7/dist-packages (from transformers) (4.62.3)\n",
      "Requirement already satisfied: sacremoses in /usr/local/lib/python3.7/dist-packages (from transformers) (0.0.46)\n",
      "Requirement already satisfied: numpy>=1.17 in /usr/local/lib/python3.7/dist-packages (from transformers) (1.19.5)\n",
      "Requirement already satisfied: filelock in /usr/local/lib/python3.7/dist-packages (from transformers) (3.4.0)\n",
      "Requirement already satisfied: pyyaml>=5.1 in /usr/local/lib/python3.7/dist-packages (from transformers) (6.0)\n",
      "Requirement already satisfied: requests in /usr/local/lib/python3.7/dist-packages (from transformers) (2.23.0)\n",
      "Requirement already satisfied: packaging>=20.0 in /usr/local/lib/python3.7/dist-packages (from transformers) (21.3)\n",
      "Requirement already satisfied: tokenizers<0.11,>=0.10.1 in /usr/local/lib/python3.7/dist-packages (from transformers) (0.10.3)\n",
      "Requirement already satisfied: regex!=2019.12.17 in /usr/local/lib/python3.7/dist-packages (from transformers) (2019.12.20)\n",
      "Requirement already satisfied: importlib-metadata in /usr/local/lib/python3.7/dist-packages (from transformers) (4.8.2)\n",
      "Requirement already satisfied: huggingface-hub<1.0,>=0.1.0 in /usr/local/lib/python3.7/dist-packages (from transformers) (0.1.2)\n",
      "Requirement already satisfied: typing-extensions>=3.7.4.3 in /usr/local/lib/python3.7/dist-packages (from huggingface-hub<1.0,>=0.1.0->transformers) (3.10.0.2)\n",
      "Requirement already satisfied: pyparsing!=3.0.5,>=2.0.2 in /usr/local/lib/python3.7/dist-packages (from packaging>=20.0->transformers) (3.0.6)\n",
      "Requirement already satisfied: zipp>=0.5 in /usr/local/lib/python3.7/dist-packages (from importlib-metadata->transformers) (3.6.0)\n",
      "Requirement already satisfied: urllib3!=1.25.0,!=1.25.1,<1.26,>=1.21.1 in /usr/local/lib/python3.7/dist-packages (from requests->transformers) (1.24.3)\n",
      "Requirement already satisfied: idna<3,>=2.5 in /usr/local/lib/python3.7/dist-packages (from requests->transformers) (2.10)\n",
      "Requirement already satisfied: certifi>=2017.4.17 in /usr/local/lib/python3.7/dist-packages (from requests->transformers) (2021.10.8)\n",
      "Requirement already satisfied: chardet<4,>=3.0.2 in /usr/local/lib/python3.7/dist-packages (from requests->transformers) (3.0.4)\n",
      "Requirement already satisfied: joblib in /usr/local/lib/python3.7/dist-packages (from sacremoses->transformers) (1.1.0)\n",
      "Requirement already satisfied: click in /usr/local/lib/python3.7/dist-packages (from sacremoses->transformers) (7.1.2)\n",
      "Requirement already satisfied: six in /usr/local/lib/python3.7/dist-packages (from sacremoses->transformers) (1.15.0)\n"
     ]
    }
   ],
   "source": [
    "!pip install datasets\n",
    "!pip install transformers"
   ]
  },
  {
   "cell_type": "code",
   "execution_count": 3,
   "metadata": {
    "colab": {
     "base_uri": "https://localhost:8080/",
     "height": 329,
     "referenced_widgets": [
      "9825f128fc594d769bbde6de53354e59",
      "d79fe6aa805243ba894c6899767d8a87",
      "cd0f85628e0b443b8211a21746cb04f5",
      "ea5ebde5bfc749648c6bc868ff353231",
      "d0cd67a204e24a5e95b13cd06b4e426b",
      "3aafa2112ac44f6e88905a1f28699886",
      "e8b3f5b297ef4a29bd06136514426ace",
      "edfc427e791c4f17a529aafbfe70cadc",
      "db9e737ef3a14cfdab145e0ea01b0b28",
      "e24cb01633454e568f949fd51d029342",
      "f1226cff73b549fc98cdb886ed4fa42b"
     ]
    },
    "id": "Wdk6SawN-Ahb",
    "outputId": "f45fe2be-5a37-4730-c148-e2f747b4ceb1"
   },
   "outputs": [
    {
     "name": "stderr",
     "output_type": "stream",
     "text": [
      "Reusing dataset imdb (/root/.cache/huggingface/datasets/imdb/plain_text/1.0.0/2fdd8b9bcadd6e7055e742a706876ba43f19faee861df134affd7a3f60fc38a1)\n"
     ]
    },
    {
     "data": {
      "application/vnd.jupyter.widget-view+json": {
       "model_id": "9825f128fc594d769bbde6de53354e59",
       "version_major": 2,
       "version_minor": 0
      },
      "text/plain": [
       "  0%|          | 0/3 [00:00<?, ?it/s]"
      ]
     },
     "metadata": {},
     "output_type": "display_data"
    },
    {
     "name": "stdout",
     "output_type": "stream",
     "text": [
      "DatasetDict({\n",
      "    train: Dataset({\n",
      "        features: ['text', 'label'],\n",
      "        num_rows: 25000\n",
      "    })\n",
      "    test: Dataset({\n",
      "        features: ['text', 'label'],\n",
      "        num_rows: 25000\n",
      "    })\n",
      "    unsupervised: Dataset({\n",
      "        features: ['text', 'label'],\n",
      "        num_rows: 50000\n",
      "    })\n",
      "})\n"
     ]
    }
   ],
   "source": [
    "import numpy as np\n",
    "from datasets import load_dataset\n",
    "\n",
    "\n",
    "raw_datasets = load_dataset(\"imdb\")\n",
    "print(raw_datasets)"
   ]
  },
  {
   "cell_type": "code",
   "execution_count": 4,
   "metadata": {
    "id": "Pnx3G7V8-PiR"
   },
   "outputs": [],
   "source": [
    "\n",
    "from nltk.tokenize import word_tokenize\n",
    "import json\n",
    "\n",
    "with open(\"vocab.json\") as f:\n",
    "  vocab = json.load(f)\n",
    "\n",
    "def tokenize_function(example):\n",
    "  sentences = [x.lower() for x in example['text']]\n",
    "  tokenized_sentences = [word_tokenize(x) for x in sentences]\n",
    "  tokenized_idx = [[vocab[word] if word in vocab else vocab[\"unk\"] for word in x] for x in tokenized_sentences]\n",
    "  max_size = max([len(x) for x in tokenized_idx])\n",
    "  final_tokenized_idx = tokenized_idx\n",
    "\n",
    "  return {\"labels\":example['label'],'input_ids':final_tokenized_idx}"
   ]
  },
  {
   "cell_type": "code",
   "execution_count": 5,
   "metadata": {
    "colab": {
     "base_uri": "https://localhost:8080/"
    },
    "id": "wB21r_h3A7yB",
    "outputId": "c19db2df-559d-4b71-a80b-66ec1919a29a"
   },
   "outputs": [
    {
     "name": "stderr",
     "output_type": "stream",
     "text": [
      "Loading cached shuffled indices for dataset at /root/.cache/huggingface/datasets/imdb/plain_text/1.0.0/2fdd8b9bcadd6e7055e742a706876ba43f19faee861df134affd7a3f60fc38a1/cache-f700cd6f222bd13f.arrow\n",
      "Loading cached processed dataset at /root/.cache/huggingface/datasets/imdb/plain_text/1.0.0/2fdd8b9bcadd6e7055e742a706876ba43f19faee861df134affd7a3f60fc38a1/cache-1deaf0e4869059b7.arrow\n",
      "Loading cached shuffled indices for dataset at /root/.cache/huggingface/datasets/imdb/plain_text/1.0.0/2fdd8b9bcadd6e7055e742a706876ba43f19faee861df134affd7a3f60fc38a1/cache-b23cfeb68a931a8d.arrow\n",
      "Loading cached processed dataset at /root/.cache/huggingface/datasets/imdb/plain_text/1.0.0/2fdd8b9bcadd6e7055e742a706876ba43f19faee861df134affd7a3f60fc38a1/cache-65e05467bd5c4904.arrow\n"
     ]
    }
   ],
   "source": [
    "small_train_dataset = raw_datasets['train'].shuffle(seed=42).map(tokenize_function,batched=True)\n",
    "small_eval_dataset = raw_datasets['test'].shuffle(seed=42).map(tokenize_function,batched=True)"
   ]
  },
  {
   "cell_type": "code",
   "execution_count": 6,
   "metadata": {
    "id": "mI0aXI_ip2v1"
   },
   "outputs": [],
   "source": [
    "def pad_sequence_to_length(\n",
    "    sequence,\n",
    "    desired_length: int,\n",
    "    default_value = lambda: 0,\n",
    "    padding_on_right: bool = True,\n",
    "):\n",
    "    sequence = list(sequence)\n",
    "    # Truncates the sequence to the desired length.\n",
    "    if padding_on_right:\n",
    "        padded_sequence = sequence[:desired_length]\n",
    "    else:\n",
    "        padded_sequence = sequence[-desired_length:]\n",
    "    # Continues to pad with default_value() until we reach the desired length.\n",
    "    pad_length = desired_length - len(padded_sequence)\n",
    "    # This just creates the default value once, so if it's a list, and if it gets mutated\n",
    "    # later, it could cause subtle bugs. But the risk there is low, and this is much faster.\n",
    "    values_to_pad = [default_value()] * pad_length\n",
    "    if padding_on_right:\n",
    "        padded_sequence = padded_sequence + values_to_pad\n",
    "    else:\n",
    "        padded_sequence = values_to_pad + padded_sequence\n",
    "    return padded_sequence"
   ]
  },
  {
   "cell_type": "code",
   "execution_count": 7,
   "metadata": {
    "id": "7xGIcwomAG3e"
   },
   "outputs": [],
   "source": [
    "from datasets import load_metric\n",
    "\n",
    "metric = load_metric(\"accuracy\")\n",
    "\n",
    "def compute_metrics(eval_pred):\n",
    "    logits = eval_pred.predictions\n",
    "    labels = eval_pred.label_ids\n",
    "    predictions = np.argmax(logits, axis=-1)\n",
    "    return metric.compute(predictions=predictions, references=labels)"
   ]
  },
  {
   "cell_type": "code",
   "execution_count": 8,
   "metadata": {
    "id": "YnOoHih5WzQf"
   },
   "outputs": [],
   "source": [
    "from dataclasses import dataclass\n",
    "\n",
    "@dataclass\n",
    "class DataCollatorWithPadding:\n",
    "  \n",
    "  def __call__(self, features):\n",
    "    features_dict={}\n",
    "    if \"labels\" in features[0]:\n",
    "        \n",
    "      features_dict[\"labels\"] = torch.tensor([x.pop(\"labels\") for x in features]).long()\n",
    "\n",
    "    input_ids = [x.pop(\"input_ids\") for x in features]\n",
    "    max_len = max(len(x) for x in input_ids)\n",
    "    masks = [[1]*len(x) for x in input_ids]\n",
    "    \n",
    "    features_dict[\"input_ids\"] = torch.tensor([pad_sequence_to_length(x,max_len) for x in input_ids]).long()\n",
    "    features_dict[\"attention_masks\"] = torch.tensor([pad_sequence_to_length(x,max_len) for x in masks]).long()\n",
    "\n",
    "    return features_dict\n"
   ]
  },
  {
   "cell_type": "code",
   "execution_count": 9,
   "metadata": {
    "id": "lC1VDdd1DfSQ"
   },
   "outputs": [],
   "source": [
    "from torch import nn\n",
    "import torch\n",
    "#Use nn.Sequential and nn.Linear for the network, and nn.CrossEntropyLoss for the loss.\n",
    "#Make sure that the final layer has output dimension of size 2.\n",
    "class DAN(nn.Module):\n",
    "  def __init__(self):\n",
    "          super().__init__()\n",
    "          self.num_labels = 2\n",
    "          self.embeddings = nn.Embedding.from_pretrained(torch.FloatTensor(np.load(\"glove.npy\")))\n",
    "          # YOUR CODE HERE\n",
    "          self.input_size = 300\n",
    "          self.hidden_size = 300\n",
    "          self.output_size = 2\n",
    "          self.activation = nn.ReLU()\n",
    "          self.input_layer = nn.Linear(self.input_size, self.hidden_size)\n",
    "          self.hidden_layer = nn.Linear(self.hidden_size, self.hidden_size)\n",
    "          self.output_layer = nn.Softmax()\n",
    "\n",
    "          self.classifier = nn.Sequential(\n",
    "              nn.Linear(self.input_size, self.hidden_size),\n",
    "\n",
    "              # nn.Linear(self.hidden_size, self.hidden_size),\n",
    "              nn.ReLU(),\n",
    "              nn.Linear(self.hidden_size, self.hidden_size),\n",
    "              nn.ReLU(),\n",
    "              nn.Linear(self.hidden_size, self.hidden_size),\n",
    "              nn.ReLU(),\n",
    "              \n",
    "              # nn.Softmax()\n",
    "              nn.Linear(self.hidden_size,self.output_size)\n",
    "          )\n",
    "\n",
    "          self.loss = nn.CrossEntropyLoss()\n",
    "          # END YOUR END\n",
    "          \n",
    "\n",
    "\n",
    "  def forward(self,input_ids,attention_masks,labels=None,**kwargs):\n",
    "      # YOUR CODE HERE\n",
    "      e = self.embeddings(input_ids)\n",
    "      avg = torch.mean(e,1)\n",
    "      # END YOUR END\n",
    "      res = self.classifier(avg)\n",
    "      loss = self.loss(res,labels)\n",
    "      return {\"loss\":loss,\"logits\":res}\n",
    "\n"
   ]
  },
  {
   "cell_type": "code",
   "execution_count": 10,
   "metadata": {
    "id": "yTle329KAw19"
   },
   "outputs": [],
   "source": [
    "#Hint: You may want to look at https://huggingface.co/transformers/main_classes/callback.html\n",
    "from transformers import Trainer\n",
    "from transformers import TrainingArguments\n",
    "\n",
    "co = DataCollatorWithPadding()\n",
    "training_args = TrainingArguments(\"DAN\",\n",
    "                                  # YOUR CODE HERE\n",
    "                                  num_train_epochs= 20, #must be at least 10.\n",
    "                                  per_device_train_batch_size=50,\n",
    "                                  per_device_eval_batch_size=50,\n",
    "                                  learning_rate= 0.0005,\n",
    "                                  # END YOUR END\n",
    "                                  \n",
    "                                  save_total_limit=2,\n",
    "                                  log_level=\"error\",\n",
    "                                  evaluation_strategy=\"epoch\")\n",
    "model = DAN()\n",
    "\n",
    "    \n",
    "\n",
    "trainer = Trainer(\n",
    "    model=model,\n",
    "    data_collator=co,\n",
    "    args=training_args,\n",
    "    callbacks = [\n",
    "                 # YOUR CODE HERE\n",
    "\n",
    "                 # END YOUR END\n",
    "    ],\n",
    "    train_dataset=small_train_dataset,\n",
    "    eval_dataset=small_eval_dataset,\n",
    "    compute_metrics=compute_metrics,\n",
    ")\n"
   ]
  },
  {
   "cell_type": "code",
   "execution_count": 11,
   "metadata": {
    "colab": {
     "base_uri": "https://localhost:8080/",
     "height": 740
    },
    "id": "1HvPThWvCq1F",
    "outputId": "fc4ee2bb-fe45-4fb5-acc7-89ed81844452"
   },
   "outputs": [
    {
     "data": {
      "text/html": [
       "\n",
       "    <div>\n",
       "      \n",
       "      <progress value='10000' max='10000' style='width:300px; height:20px; vertical-align: middle;'></progress>\n",
       "      [10000/10000 09:25, Epoch 20/20]\n",
       "    </div>\n",
       "    <table border=\"1\" class=\"dataframe\">\n",
       "  <thead>\n",
       "    <tr style=\"text-align: left;\">\n",
       "      <th>Epoch</th>\n",
       "      <th>Training Loss</th>\n",
       "      <th>Validation Loss</th>\n",
       "      <th>Accuracy</th>\n",
       "    </tr>\n",
       "  </thead>\n",
       "  <tbody>\n",
       "    <tr>\n",
       "      <td>1</td>\n",
       "      <td>0.526700</td>\n",
       "      <td>0.468842</td>\n",
       "      <td>0.780040</td>\n",
       "    </tr>\n",
       "    <tr>\n",
       "      <td>2</td>\n",
       "      <td>0.406900</td>\n",
       "      <td>0.398864</td>\n",
       "      <td>0.819840</td>\n",
       "    </tr>\n",
       "    <tr>\n",
       "      <td>3</td>\n",
       "      <td>0.391900</td>\n",
       "      <td>0.388496</td>\n",
       "      <td>0.825400</td>\n",
       "    </tr>\n",
       "    <tr>\n",
       "      <td>4</td>\n",
       "      <td>0.388000</td>\n",
       "      <td>0.456401</td>\n",
       "      <td>0.784520</td>\n",
       "    </tr>\n",
       "    <tr>\n",
       "      <td>5</td>\n",
       "      <td>0.388800</td>\n",
       "      <td>0.413913</td>\n",
       "      <td>0.809200</td>\n",
       "    </tr>\n",
       "    <tr>\n",
       "      <td>6</td>\n",
       "      <td>0.385200</td>\n",
       "      <td>0.389770</td>\n",
       "      <td>0.824240</td>\n",
       "    </tr>\n",
       "    <tr>\n",
       "      <td>7</td>\n",
       "      <td>0.374200</td>\n",
       "      <td>0.383652</td>\n",
       "      <td>0.828360</td>\n",
       "    </tr>\n",
       "    <tr>\n",
       "      <td>8</td>\n",
       "      <td>0.373700</td>\n",
       "      <td>0.377106</td>\n",
       "      <td>0.833480</td>\n",
       "    </tr>\n",
       "    <tr>\n",
       "      <td>9</td>\n",
       "      <td>0.371500</td>\n",
       "      <td>0.377440</td>\n",
       "      <td>0.834040</td>\n",
       "    </tr>\n",
       "    <tr>\n",
       "      <td>10</td>\n",
       "      <td>0.368300</td>\n",
       "      <td>0.394053</td>\n",
       "      <td>0.824000</td>\n",
       "    </tr>\n",
       "    <tr>\n",
       "      <td>11</td>\n",
       "      <td>0.365600</td>\n",
       "      <td>0.387522</td>\n",
       "      <td>0.828480</td>\n",
       "    </tr>\n",
       "    <tr>\n",
       "      <td>12</td>\n",
       "      <td>0.363900</td>\n",
       "      <td>0.376316</td>\n",
       "      <td>0.831640</td>\n",
       "    </tr>\n",
       "    <tr>\n",
       "      <td>13</td>\n",
       "      <td>0.362700</td>\n",
       "      <td>0.372862</td>\n",
       "      <td>0.833560</td>\n",
       "    </tr>\n",
       "    <tr>\n",
       "      <td>14</td>\n",
       "      <td>0.357900</td>\n",
       "      <td>0.369498</td>\n",
       "      <td>0.836000</td>\n",
       "    </tr>\n",
       "    <tr>\n",
       "      <td>15</td>\n",
       "      <td>0.356500</td>\n",
       "      <td>0.369342</td>\n",
       "      <td>0.834920</td>\n",
       "    </tr>\n",
       "    <tr>\n",
       "      <td>16</td>\n",
       "      <td>0.353300</td>\n",
       "      <td>0.368069</td>\n",
       "      <td>0.837440</td>\n",
       "    </tr>\n",
       "    <tr>\n",
       "      <td>17</td>\n",
       "      <td>0.352000</td>\n",
       "      <td>0.384863</td>\n",
       "      <td>0.828400</td>\n",
       "    </tr>\n",
       "    <tr>\n",
       "      <td>18</td>\n",
       "      <td>0.349600</td>\n",
       "      <td>0.368472</td>\n",
       "      <td>0.837600</td>\n",
       "    </tr>\n",
       "    <tr>\n",
       "      <td>19</td>\n",
       "      <td>0.348100</td>\n",
       "      <td>0.366925</td>\n",
       "      <td>0.837680</td>\n",
       "    </tr>\n",
       "    <tr>\n",
       "      <td>20</td>\n",
       "      <td>0.346700</td>\n",
       "      <td>0.366697</td>\n",
       "      <td>0.838440</td>\n",
       "    </tr>\n",
       "  </tbody>\n",
       "</table><p>"
      ],
      "text/plain": [
       "<IPython.core.display.HTML object>"
      ]
     },
     "metadata": {},
     "output_type": "display_data"
    },
    {
     "data": {
      "text/plain": [
       "TrainOutput(global_step=10000, training_loss=0.3765707260131836, metrics={'train_runtime': 565.8539, 'train_samples_per_second': 883.62, 'train_steps_per_second': 17.672, 'total_flos': 0.0, 'train_loss': 0.3765707260131836, 'epoch': 20.0})"
      ]
     },
     "execution_count": 11,
     "metadata": {},
     "output_type": "execute_result"
    }
   ],
   "source": [
    "trainer.train()"
   ]
  },
  {
   "cell_type": "markdown",
   "metadata": {
    "id": "jrO8EZMpxfxo"
   },
   "source": [
    "# 5b\n",
    "\n"
   ]
  },
  {
   "cell_type": "code",
   "execution_count": 12,
   "metadata": {
    "id": "lfjQy_IZ6-iT"
   },
   "outputs": [],
   "source": [
    "import matplotlib.pyplot as plt\n",
    "\n",
    "def get_XY(trainer):\n",
    "  hist = trainer.state.log_history\n",
    "\n",
    "  epoch_eval = [(x[\"epoch\"], x.get(\"eval_accuracy\")) for x in hist if int(x[\"epoch\"])==x[\"epoch\"]]\n",
    "  epoch_eval = [x for x in epoch_eval if x[1] is not None]\n",
    "\n",
    "  epoch_eval = sorted(epoch_eval,key=lambda x:x[0])\n",
    "\n",
    "  X = [x for x,y in epoch_eval]\n",
    "\n",
    "  Y = [y*100 for x,y in epoch_eval]\n",
    "\n",
    "  return X,Y\n",
    "def plot_trainer(trainer, title):\n",
    "  plt.clf()\n",
    "  hist = trainer.state.log_history\n",
    "\n",
    "  epoch_eval = [(x[\"epoch\"], x.get(\"eval_accuracy\")) for x in hist if int(x[\"epoch\"])==x[\"epoch\"]]\n",
    "  epoch_eval = [x for x in epoch_eval if x[1] is not None]\n",
    "\n",
    "  X = [x for x,y in epoch_eval]\n",
    "\n",
    "  Y = [y*100 for x,y in epoch_eval]\n",
    "\n",
    "  plt.plot(X,Y)\n",
    "\n",
    "  plt.plot(X[-1],Y[-1],\"or\") # last point\n",
    "\n",
    "  plt.axhline(y=Y[-1], color='r', linestyle='--') # last eval line\n",
    "\n",
    "  plt.annotate(round(Y[-1],2),xy=(1,Y[-1]+0.05),color='red') #last eval annotate\n",
    "\n",
    "  plt.title(title)\n",
    "  plt.xlabel(\"epochs\")\n",
    "  plt.ylabel(\"eval accuracy %\")\n",
    "\n",
    "  plt.show()"
   ]
  },
  {
   "cell_type": "code",
   "execution_count": 13,
   "metadata": {
    "colab": {
     "base_uri": "https://localhost:8080/",
     "height": 295
    },
    "id": "l1RsecGzVASs",
    "outputId": "d80daf85-a315-451d-8d50-b2a86f1e0d08"
   },
   "outputs": [
    {
     "data": {
      "image/png": "[encoded data removed]",
      "text/plain": [
       "<Figure size 432x288 with 1 Axes>"
      ]
     },
     "metadata": {
      "needs_background": "light"
     },
     "output_type": "display_data"
    }
   ],
   "source": [
    "plot_trainer(trainer,'epoch vs eval acc')"
   ]
  },
  {
   "cell_type": "code",
   "execution_count": 14,
   "metadata": {
    "id": "eeie347TxhqP"
   },
   "outputs": [],
   "source": [
    "from torch import nn\n",
    "import torch\n",
    "#Use nn.Sequential and nn.Linear for the network, and nn.CrossEntropyLoss for the loss.\n",
    "#Make sure that the final layer has output dimension of size 2.\n",
    "class DAN(nn.Module):\n",
    "  def __init__(self, dropout, layers, activation):\n",
    "          super().__init__()\n",
    "          self.num_labels = 2\n",
    "          self.embeddings = nn.Embedding.from_pretrained(torch.FloatTensor(np.load(\"glove.npy\")))\n",
    "          # YOUR CODE HERE\n",
    "          self.input_size = 300\n",
    "          self.hidden_size = 300\n",
    "          self.output_size = 2\n",
    "          self.dropout = dropout\n",
    "          self.activation = activation\n",
    "          \n",
    "          if layers == 1:\n",
    "            self.classifier = nn.Sequential(\n",
    "                nn.Linear(self.input_size, self.hidden_size),\n",
    "\n",
    "                # nn.Linear(self.hidden_size, self.hidden_size),\n",
    "                self.activation(),\n",
    "\n",
    "                nn.Linear(self.hidden_size,self.output_size)\n",
    "            )\n",
    "          elif layers == 2:\n",
    "            self.classifier = nn.Sequential(\n",
    "                nn.Linear(self.input_size, self.hidden_size),\n",
    "\n",
    "                # nn.Linear(self.hidden_size, self.hidden_size),\n",
    "                self.activation(),\n",
    "                nn.Linear(self.hidden_size, self.hidden_size),\n",
    "                self.activation(),\n",
    "\n",
    "                nn.Linear(self.hidden_size,self.output_size)\n",
    "            )\n",
    "          elif layers == 3:\n",
    "            self.classifier = nn.Sequential(\n",
    "                nn.Linear(self.input_size, self.hidden_size),\n",
    "\n",
    "                # nn.Linear(self.hidden_size, self.hidden_size),\n",
    "                self.activation(),\n",
    "                nn.Linear(self.hidden_size, self.hidden_size),\n",
    "                self.activation(),\n",
    "                nn.Linear(self.hidden_size, self.hidden_size),\n",
    "                self.activation(),\n",
    "                \n",
    "                nn.Linear(self.hidden_size,self.output_size)\n",
    "            )\n",
    "          else:\n",
    "            self.classifier = nn.Sequential(\n",
    "                nn.Linear(self.input_size, self.output_size)\n",
    "            )\n",
    "\n",
    "          self.loss = nn.CrossEntropyLoss()\n",
    "          # END YOUR END\n",
    "          \n",
    "\n",
    "\n",
    "  def forward(self,input_ids,attention_masks,labels=None,**kwargs):\n",
    "      # YOUR CODE HERE\n",
    "      d = nn.Dropout(p=self.dropout)\n",
    "      e = self.embeddings(input_ids)\n",
    "      e = d(e)\n",
    "      avg = torch.mean(e,1)\n",
    "      # END YOUR END\n",
    "      res = self.classifier(avg)\n",
    "      loss = self.loss(res,labels)\n",
    "      return {\"loss\":loss,\"logits\":res}\n",
    "\n"
   ]
  },
  {
   "cell_type": "code",
   "execution_count": 15,
   "metadata": {
    "id": "He3GVsl6xi3c"
   },
   "outputs": [],
   "source": [
    "#Hint: You may want to look at https://huggingface.co/transformers/main_classes/callback.html\n",
    "from transformers import Trainer\n",
    "from transformers import TrainingArguments\n",
    "def train_model(dropout=0, layers=3, activation=nn.ReLU, epochs=20, t_batch=50, e_batch=50, learning_rate=0.0005):\n",
    "  co = DataCollatorWithPadding()\n",
    "  training_args = TrainingArguments(\"DAN\",\n",
    "                                    # YOUR CODE HERE\n",
    "                                    num_train_epochs= epochs, #must be at least 10.\n",
    "                                    per_device_train_batch_size=t_batch,\n",
    "                                    per_device_eval_batch_size=e_batch,\n",
    "                                    learning_rate= learning_rate,\n",
    "                                    # END YOUR END\n",
    "                                    \n",
    "                                    save_total_limit=2,\n",
    "                                    log_level=\"error\",\n",
    "                                    evaluation_strategy=\"epoch\")\n",
    "  model = DAN(dropout, layers, activation)\n",
    "\n",
    "      \n",
    "\n",
    "  trainer = Trainer(\n",
    "      model=model,\n",
    "      data_collator=co,\n",
    "      args=training_args,\n",
    "      callbacks = [\n",
    "                  # YOUR CODE HERE\n",
    "\n",
    "                  # END YOUR END\n",
    "      ],\n",
    "      train_dataset=small_train_dataset,\n",
    "      eval_dataset=small_eval_dataset,\n",
    "      compute_metrics=compute_metrics,\n",
    "  )\n",
    "\n",
    "  trainer.train()\n",
    "  \n",
    "  return trainer\n"
   ]
  },
  {
   "cell_type": "markdown",
   "metadata": {
    "id": "HXk5Ig-_BxIw"
   },
   "source": [
    "#5b"
   ]
  },
  {
   "cell_type": "code",
   "execution_count": 16,
   "metadata": {
    "colab": {
     "base_uri": "https://localhost:8080/"
    },
    "id": "AlCcKxxRBy6s",
    "outputId": "75d9c5a4-9b48-4f2e-e0d0-9ebd90d03ae1"
   },
   "outputs": [
    {
     "name": "stdout",
     "output_type": "stream",
     "text": [
      "{'loss': 0.5259, 'learning_rate': 0.000475, 'epoch': 1.0}\n",
      "{'eval_loss': 0.4279170334339142, 'eval_accuracy': 0.80828, 'eval_runtime': 11.9268, 'eval_samples_per_second': 2096.122, 'eval_steps_per_second': 41.922, 'epoch': 1.0}\n",
      "{'loss': 0.4068, 'learning_rate': 0.00045000000000000004, 'epoch': 2.0}\n",
      "{'eval_loss': 0.3903854191303253, 'eval_accuracy': 0.8252, 'eval_runtime': 11.9882, 'eval_samples_per_second': 2085.381, 'eval_steps_per_second': 41.708, 'epoch': 2.0}\n",
      "{'loss': 0.3936, 'learning_rate': 0.000425, 'epoch': 3.0}\n",
      "{'eval_loss': 0.3834010660648346, 'eval_accuracy': 0.82864, 'eval_runtime': 11.8981, 'eval_samples_per_second': 2101.182, 'eval_steps_per_second': 42.024, 'epoch': 3.0}\n",
      "{'loss': 0.3906, 'learning_rate': 0.0004, 'epoch': 4.0}\n",
      "{'eval_loss': 0.46471020579338074, 'eval_accuracy': 0.77984, 'eval_runtime': 11.7576, 'eval_samples_per_second': 2126.277, 'eval_steps_per_second': 42.526, 'epoch': 4.0}\n",
      "{'loss': 0.3882, 'learning_rate': 0.000375, 'epoch': 5.0}\n",
      "{'eval_loss': 0.4133964776992798, 'eval_accuracy': 0.80764, 'eval_runtime': 11.9525, 'eval_samples_per_second': 2091.609, 'eval_steps_per_second': 41.832, 'epoch': 5.0}\n",
      "{'loss': 0.3823, 'learning_rate': 0.00035, 'epoch': 6.0}\n",
      "{'eval_loss': 0.4295906126499176, 'eval_accuracy': 0.80092, 'eval_runtime': 11.7651, 'eval_samples_per_second': 2124.932, 'eval_steps_per_second': 42.499, 'epoch': 6.0}\n",
      "{'loss': 0.375, 'learning_rate': 0.00032500000000000004, 'epoch': 7.0}\n",
      "{'eval_loss': 0.3829084634780884, 'eval_accuracy': 0.82856, 'eval_runtime': 11.8101, 'eval_samples_per_second': 2116.835, 'eval_steps_per_second': 42.337, 'epoch': 7.0}\n",
      "{'loss': 0.3721, 'learning_rate': 0.0003, 'epoch': 8.0}\n",
      "{'eval_loss': 0.3763141930103302, 'eval_accuracy': 0.83364, 'eval_runtime': 11.6509, 'eval_samples_per_second': 2145.764, 'eval_steps_per_second': 42.915, 'epoch': 8.0}\n",
      "{'loss': 0.3714, 'learning_rate': 0.000275, 'epoch': 9.0}\n",
      "{'eval_loss': 0.3744146227836609, 'eval_accuracy': 0.83548, 'eval_runtime': 11.7471, 'eval_samples_per_second': 2128.19, 'eval_steps_per_second': 42.564, 'epoch': 9.0}\n",
      "{'loss': 0.3688, 'learning_rate': 0.00025, 'epoch': 10.0}\n",
      "{'eval_loss': 0.38996621966362, 'eval_accuracy': 0.825, 'eval_runtime': 11.8636, 'eval_samples_per_second': 2107.29, 'eval_steps_per_second': 42.146, 'epoch': 10.0}\n",
      "{'loss': 0.3657, 'learning_rate': 0.00022500000000000002, 'epoch': 11.0}\n",
      "{'eval_loss': 0.3829481303691864, 'eval_accuracy': 0.82884, 'eval_runtime': 11.8028, 'eval_samples_per_second': 2118.14, 'eval_steps_per_second': 42.363, 'epoch': 11.0}\n",
      "{'loss': 0.3637, 'learning_rate': 0.0002, 'epoch': 12.0}\n",
      "{'eval_loss': 0.3791421949863434, 'eval_accuracy': 0.83036, 'eval_runtime': 11.8092, 'eval_samples_per_second': 2116.993, 'eval_steps_per_second': 42.34, 'epoch': 12.0}\n",
      "{'loss': 0.3621, 'learning_rate': 0.000175, 'epoch': 13.0}\n",
      "{'eval_loss': 0.3739081621170044, 'eval_accuracy': 0.83396, 'eval_runtime': 11.8112, 'eval_samples_per_second': 2116.643, 'eval_steps_per_second': 42.333, 'epoch': 13.0}\n",
      "{'loss': 0.3573, 'learning_rate': 0.00015, 'epoch': 14.0}\n",
      "{'eval_loss': 0.36822280287742615, 'eval_accuracy': 0.83592, 'eval_runtime': 11.8394, 'eval_samples_per_second': 2111.591, 'eval_steps_per_second': 42.232, 'epoch': 14.0}\n",
      "{'loss': 0.3562, 'learning_rate': 0.000125, 'epoch': 15.0}\n",
      "{'eval_loss': 0.3695448338985443, 'eval_accuracy': 0.83524, 'eval_runtime': 11.6478, 'eval_samples_per_second': 2146.327, 'eval_steps_per_second': 42.927, 'epoch': 15.0}\n",
      "{'loss': 0.3531, 'learning_rate': 0.0001, 'epoch': 16.0}\n",
      "{'eval_loss': 0.3676961660385132, 'eval_accuracy': 0.83768, 'eval_runtime': 11.9078, 'eval_samples_per_second': 2099.473, 'eval_steps_per_second': 41.989, 'epoch': 16.0}\n",
      "{'loss': 0.3516, 'learning_rate': 7.5e-05, 'epoch': 17.0}\n",
      "{'eval_loss': 0.3830614984035492, 'eval_accuracy': 0.82896, 'eval_runtime': 11.5914, 'eval_samples_per_second': 2156.778, 'eval_steps_per_second': 43.136, 'epoch': 17.0}\n",
      "{'loss': 0.349, 'learning_rate': 5e-05, 'epoch': 18.0}\n",
      "{'eval_loss': 0.36850085854530334, 'eval_accuracy': 0.83808, 'eval_runtime': 11.8235, 'eval_samples_per_second': 2114.425, 'eval_steps_per_second': 42.288, 'epoch': 18.0}\n",
      "{'loss': 0.3476, 'learning_rate': 2.5e-05, 'epoch': 19.0}\n",
      "{'eval_loss': 0.36674442887306213, 'eval_accuracy': 0.83836, 'eval_runtime': 11.905, 'eval_samples_per_second': 2099.961, 'eval_steps_per_second': 41.999, 'epoch': 19.0}\n",
      "{'loss': 0.3463, 'learning_rate': 0.0, 'epoch': 20.0}\n",
      "{'eval_loss': 0.3665105104446411, 'eval_accuracy': 0.83812, 'eval_runtime': 11.8821, 'eval_samples_per_second': 2104.007, 'eval_steps_per_second': 42.08, 'epoch': 20.0}\n",
      "{'train_runtime': 522.4827, 'train_samples_per_second': 956.97, 'train_steps_per_second': 19.139, 'train_loss': 0.3763625457763672, 'epoch': 20.0}\n",
      "========================\n",
      "finished 0.0\n",
      "========================\n",
      "{'loss': 0.5296, 'learning_rate': 0.000475, 'epoch': 1.0}\n",
      "{'eval_loss': 0.42912018299102783, 'eval_accuracy': 0.80348, 'eval_runtime': 12.3346, 'eval_samples_per_second': 2026.816, 'eval_steps_per_second': 40.536, 'epoch': 1.0}\n",
      "{'loss': 0.4088, 'learning_rate': 0.00045000000000000004, 'epoch': 2.0}\n",
      "{'eval_loss': 0.40018919110298157, 'eval_accuracy': 0.81932, 'eval_runtime': 12.3469, 'eval_samples_per_second': 2024.804, 'eval_steps_per_second': 40.496, 'epoch': 2.0}\n",
      "{'loss': 0.3982, 'learning_rate': 0.000425, 'epoch': 3.0}\n",
      "{'eval_loss': 0.4004390239715576, 'eval_accuracy': 0.82044, 'eval_runtime': 12.2144, 'eval_samples_per_second': 2046.761, 'eval_steps_per_second': 40.935, 'epoch': 3.0}\n",
      "{'loss': 0.3922, 'learning_rate': 0.0004, 'epoch': 4.0}\n",
      "{'eval_loss': 0.4275473356246948, 'eval_accuracy': 0.79992, 'eval_runtime': 12.4236, 'eval_samples_per_second': 2012.292, 'eval_steps_per_second': 40.246, 'epoch': 4.0}\n",
      "{'loss': 0.3894, 'learning_rate': 0.000375, 'epoch': 5.0}\n",
      "{'eval_loss': 0.41864511370658875, 'eval_accuracy': 0.80616, 'eval_runtime': 12.2927, 'eval_samples_per_second': 2033.72, 'eval_steps_per_second': 40.674, 'epoch': 5.0}\n",
      "{'loss': 0.3895, 'learning_rate': 0.00035, 'epoch': 6.0}\n",
      "{'eval_loss': 0.42441463470458984, 'eval_accuracy': 0.80444, 'eval_runtime': 12.2851, 'eval_samples_per_second': 2034.99, 'eval_steps_per_second': 40.7, 'epoch': 6.0}\n",
      "{'loss': 0.3861, 'learning_rate': 0.00032500000000000004, 'epoch': 7.0}\n",
      "{'eval_loss': 0.394696444272995, 'eval_accuracy': 0.8228, 'eval_runtime': 12.1809, 'eval_samples_per_second': 2052.397, 'eval_steps_per_second': 41.048, 'epoch': 7.0}\n",
      "{'loss': 0.3755, 'learning_rate': 0.0003, 'epoch': 8.0}\n",
      "{'eval_loss': 0.379337877035141, 'eval_accuracy': 0.8312, 'eval_runtime': 12.1085, 'eval_samples_per_second': 2064.66, 'eval_steps_per_second': 41.293, 'epoch': 8.0}\n",
      "{'loss': 0.3748, 'learning_rate': 0.000275, 'epoch': 9.0}\n",
      "{'eval_loss': 0.38299596309661865, 'eval_accuracy': 0.82836, 'eval_runtime': 12.0123, 'eval_samples_per_second': 2081.199, 'eval_steps_per_second': 41.624, 'epoch': 9.0}\n",
      "{'loss': 0.372, 'learning_rate': 0.00025, 'epoch': 10.0}\n",
      "{'eval_loss': 0.3943065106868744, 'eval_accuracy': 0.82164, 'eval_runtime': 12.2692, 'eval_samples_per_second': 2037.618, 'eval_steps_per_second': 40.752, 'epoch': 10.0}\n",
      "{'loss': 0.3699, 'learning_rate': 0.00022500000000000002, 'epoch': 11.0}\n",
      "{'eval_loss': 0.3865405023097992, 'eval_accuracy': 0.82604, 'eval_runtime': 12.3561, 'eval_samples_per_second': 2023.284, 'eval_steps_per_second': 40.466, 'epoch': 11.0}\n",
      "{'loss': 0.3674, 'learning_rate': 0.0002, 'epoch': 12.0}\n",
      "{'eval_loss': 0.39922553300857544, 'eval_accuracy': 0.8214, 'eval_runtime': 12.1051, 'eval_samples_per_second': 2065.248, 'eval_steps_per_second': 41.305, 'epoch': 12.0}\n",
      "{'loss': 0.3676, 'learning_rate': 0.000175, 'epoch': 13.0}\n",
      "{'eval_loss': 0.3807787597179413, 'eval_accuracy': 0.83104, 'eval_runtime': 12.2347, 'eval_samples_per_second': 2043.362, 'eval_steps_per_second': 40.867, 'epoch': 13.0}\n",
      "{'loss': 0.3616, 'learning_rate': 0.00015, 'epoch': 14.0}\n",
      "{'eval_loss': 0.374634712934494, 'eval_accuracy': 0.83108, 'eval_runtime': 12.3171, 'eval_samples_per_second': 2029.692, 'eval_steps_per_second': 40.594, 'epoch': 14.0}\n",
      "{'loss': 0.3617, 'learning_rate': 0.000125, 'epoch': 15.0}\n",
      "{'eval_loss': 0.3741309642791748, 'eval_accuracy': 0.8324, 'eval_runtime': 12.2349, 'eval_samples_per_second': 2043.332, 'eval_steps_per_second': 40.867, 'epoch': 15.0}\n",
      "{'loss': 0.3573, 'learning_rate': 0.0001, 'epoch': 16.0}\n",
      "{'eval_loss': 0.3725478947162628, 'eval_accuracy': 0.83544, 'eval_runtime': 12.2676, 'eval_samples_per_second': 2037.891, 'eval_steps_per_second': 40.758, 'epoch': 16.0}\n",
      "{'loss': 0.3569, 'learning_rate': 7.5e-05, 'epoch': 17.0}\n",
      "{'eval_loss': 0.3824070394039154, 'eval_accuracy': 0.82812, 'eval_runtime': 12.3652, 'eval_samples_per_second': 2021.802, 'eval_steps_per_second': 40.436, 'epoch': 17.0}\n",
      "{'loss': 0.3539, 'learning_rate': 5e-05, 'epoch': 18.0}\n",
      "{'eval_loss': 0.37399089336395264, 'eval_accuracy': 0.83424, 'eval_runtime': 12.2714, 'eval_samples_per_second': 2037.264, 'eval_steps_per_second': 40.745, 'epoch': 18.0}\n",
      "{'loss': 0.3524, 'learning_rate': 2.5e-05, 'epoch': 19.0}\n",
      "{'eval_loss': 0.37075892090797424, 'eval_accuracy': 0.8352, 'eval_runtime': 12.3866, 'eval_samples_per_second': 2018.307, 'eval_steps_per_second': 40.366, 'epoch': 19.0}\n",
      "{'loss': 0.3513, 'learning_rate': 0.0, 'epoch': 20.0}\n",
      "{'eval_loss': 0.3704862892627716, 'eval_accuracy': 0.83588, 'eval_runtime': 12.329, 'eval_samples_per_second': 2027.744, 'eval_steps_per_second': 40.555, 'epoch': 20.0}\n",
      "{'train_runtime': 541.0109, 'train_samples_per_second': 924.196, 'train_steps_per_second': 18.484, 'train_loss': 0.3807996246337891, 'epoch': 20.0}\n",
      "========================\n",
      "finished 0.05\n",
      "========================\n",
      "{'loss': 0.5323, 'learning_rate': 0.000475, 'epoch': 1.0}\n",
      "{'eval_loss': 0.43094074726104736, 'eval_accuracy': 0.8052, 'eval_runtime': 12.5547, 'eval_samples_per_second': 1991.293, 'eval_steps_per_second': 39.826, 'epoch': 1.0}\n",
      "{'loss': 0.4104, 'learning_rate': 0.00045000000000000004, 'epoch': 2.0}\n",
      "{'eval_loss': 0.40480542182922363, 'eval_accuracy': 0.81704, 'eval_runtime': 12.5808, 'eval_samples_per_second': 1987.151, 'eval_steps_per_second': 39.743, 'epoch': 2.0}\n",
      "{'loss': 0.4043, 'learning_rate': 0.000425, 'epoch': 3.0}\n",
      "{'eval_loss': 0.3910236656665802, 'eval_accuracy': 0.82288, 'eval_runtime': 12.4384, 'eval_samples_per_second': 2009.907, 'eval_steps_per_second': 40.198, 'epoch': 3.0}\n",
      "{'loss': 0.3972, 'learning_rate': 0.0004, 'epoch': 4.0}\n",
      "{'eval_loss': 0.4135403037071228, 'eval_accuracy': 0.8086, 'eval_runtime': 12.3342, 'eval_samples_per_second': 2026.885, 'eval_steps_per_second': 40.538, 'epoch': 4.0}\n",
      "{'loss': 0.3942, 'learning_rate': 0.000375, 'epoch': 5.0}\n",
      "{'eval_loss': 0.4040948450565338, 'eval_accuracy': 0.81672, 'eval_runtime': 12.6038, 'eval_samples_per_second': 1983.531, 'eval_steps_per_second': 39.671, 'epoch': 5.0}\n",
      "{'loss': 0.3928, 'learning_rate': 0.00035, 'epoch': 6.0}\n",
      "{'eval_loss': 0.43637123703956604, 'eval_accuracy': 0.79776, 'eval_runtime': 12.5871, 'eval_samples_per_second': 1986.161, 'eval_steps_per_second': 39.723, 'epoch': 6.0}\n",
      "{'loss': 0.3897, 'learning_rate': 0.00032500000000000004, 'epoch': 7.0}\n",
      "{'eval_loss': 0.4035991430282593, 'eval_accuracy': 0.81604, 'eval_runtime': 12.2112, 'eval_samples_per_second': 2047.298, 'eval_steps_per_second': 40.946, 'epoch': 7.0}\n",
      "{'loss': 0.3795, 'learning_rate': 0.0003, 'epoch': 8.0}\n",
      "{'eval_loss': 0.3846830725669861, 'eval_accuracy': 0.82668, 'eval_runtime': 12.1919, 'eval_samples_per_second': 2050.549, 'eval_steps_per_second': 41.011, 'epoch': 8.0}\n",
      "{'loss': 0.3796, 'learning_rate': 0.000275, 'epoch': 9.0}\n",
      "{'eval_loss': 0.3866267502307892, 'eval_accuracy': 0.82508, 'eval_runtime': 12.6094, 'eval_samples_per_second': 1982.652, 'eval_steps_per_second': 39.653, 'epoch': 9.0}\n",
      "{'loss': 0.3771, 'learning_rate': 0.00025, 'epoch': 10.0}\n",
      "{'eval_loss': 0.39674559235572815, 'eval_accuracy': 0.82132, 'eval_runtime': 12.544, 'eval_samples_per_second': 1992.984, 'eval_steps_per_second': 39.86, 'epoch': 10.0}\n",
      "{'loss': 0.3737, 'learning_rate': 0.00022500000000000002, 'epoch': 11.0}\n",
      "{'eval_loss': 0.3896068334579468, 'eval_accuracy': 0.825, 'eval_runtime': 12.4111, 'eval_samples_per_second': 2014.328, 'eval_steps_per_second': 40.287, 'epoch': 11.0}\n",
      "{'loss': 0.3736, 'learning_rate': 0.0002, 'epoch': 12.0}\n",
      "{'eval_loss': 0.397971510887146, 'eval_accuracy': 0.82232, 'eval_runtime': 12.4576, 'eval_samples_per_second': 2006.799, 'eval_steps_per_second': 40.136, 'epoch': 12.0}\n",
      "{'loss': 0.3716, 'learning_rate': 0.000175, 'epoch': 13.0}\n",
      "{'eval_loss': 0.3840582072734833, 'eval_accuracy': 0.82696, 'eval_runtime': 12.5619, 'eval_samples_per_second': 1990.149, 'eval_steps_per_second': 39.803, 'epoch': 13.0}\n",
      "{'loss': 0.3657, 'learning_rate': 0.00015, 'epoch': 14.0}\n",
      "{'eval_loss': 0.37963902950286865, 'eval_accuracy': 0.82904, 'eval_runtime': 12.472, 'eval_samples_per_second': 2004.486, 'eval_steps_per_second': 40.09, 'epoch': 14.0}\n",
      "{'loss': 0.3669, 'learning_rate': 0.000125, 'epoch': 15.0}\n",
      "{'eval_loss': 0.37870123982429504, 'eval_accuracy': 0.82832, 'eval_runtime': 12.2924, 'eval_samples_per_second': 2033.771, 'eval_steps_per_second': 40.675, 'epoch': 15.0}\n",
      "{'loss': 0.3632, 'learning_rate': 0.0001, 'epoch': 16.0}\n",
      "{'eval_loss': 0.37708231806755066, 'eval_accuracy': 0.83164, 'eval_runtime': 12.5204, 'eval_samples_per_second': 1996.745, 'eval_steps_per_second': 39.935, 'epoch': 16.0}\n",
      "{'loss': 0.3612, 'learning_rate': 7.5e-05, 'epoch': 17.0}\n",
      "{'eval_loss': 0.3888806998729706, 'eval_accuracy': 0.82412, 'eval_runtime': 12.7629, 'eval_samples_per_second': 1958.797, 'eval_steps_per_second': 39.176, 'epoch': 17.0}\n",
      "{'loss': 0.3593, 'learning_rate': 5e-05, 'epoch': 18.0}\n",
      "{'eval_loss': 0.37903863191604614, 'eval_accuracy': 0.83184, 'eval_runtime': 12.3868, 'eval_samples_per_second': 2018.285, 'eval_steps_per_second': 40.366, 'epoch': 18.0}\n",
      "{'loss': 0.3574, 'learning_rate': 2.5e-05, 'epoch': 19.0}\n",
      "{'eval_loss': 0.3745700716972351, 'eval_accuracy': 0.8344, 'eval_runtime': 12.2327, 'eval_samples_per_second': 2043.702, 'eval_steps_per_second': 40.874, 'epoch': 19.0}\n",
      "{'loss': 0.3577, 'learning_rate': 0.0, 'epoch': 20.0}\n",
      "{'eval_loss': 0.37528449296951294, 'eval_accuracy': 0.83336, 'eval_runtime': 12.4058, 'eval_samples_per_second': 2015.181, 'eval_steps_per_second': 40.304, 'epoch': 20.0}\n",
      "{'train_runtime': 548.1032, 'train_samples_per_second': 912.237, 'train_steps_per_second': 18.245, 'train_loss': 0.3853661315917969, 'epoch': 20.0}\n",
      "========================\n",
      "finished 0.1\n",
      "========================\n",
      "{'loss': 0.5286, 'learning_rate': 0.000475, 'epoch': 1.0}\n",
      "{'eval_loss': 0.42221808433532715, 'eval_accuracy': 0.8088, 'eval_runtime': 12.248, 'eval_samples_per_second': 2041.147, 'eval_steps_per_second': 40.823, 'epoch': 1.0}\n",
      "{'loss': 0.4166, 'learning_rate': 0.00045000000000000004, 'epoch': 2.0}\n",
      "{'eval_loss': 0.4059881269931793, 'eval_accuracy': 0.81428, 'eval_runtime': 12.1928, 'eval_samples_per_second': 2050.385, 'eval_steps_per_second': 41.008, 'epoch': 2.0}\n",
      "{'loss': 0.4083, 'learning_rate': 0.000425, 'epoch': 3.0}\n",
      "{'eval_loss': 0.41614827513694763, 'eval_accuracy': 0.80776, 'eval_runtime': 12.3832, 'eval_samples_per_second': 2018.857, 'eval_steps_per_second': 40.377, 'epoch': 3.0}\n",
      "{'loss': 0.4013, 'learning_rate': 0.0004, 'epoch': 4.0}\n",
      "{'eval_loss': 0.4049743115901947, 'eval_accuracy': 0.8128, 'eval_runtime': 12.2141, 'eval_samples_per_second': 2046.808, 'eval_steps_per_second': 40.936, 'epoch': 4.0}\n",
      "{'loss': 0.4009, 'learning_rate': 0.000375, 'epoch': 5.0}\n",
      "{'eval_loss': 0.41790252923965454, 'eval_accuracy': 0.80712, 'eval_runtime': 12.3663, 'eval_samples_per_second': 2021.628, 'eval_steps_per_second': 40.433, 'epoch': 5.0}\n",
      "{'loss': 0.3967, 'learning_rate': 0.00035, 'epoch': 6.0}\n",
      "{'eval_loss': 0.4374307692050934, 'eval_accuracy': 0.79772, 'eval_runtime': 12.4486, 'eval_samples_per_second': 2008.251, 'eval_steps_per_second': 40.165, 'epoch': 6.0}\n",
      "{'loss': 0.3901, 'learning_rate': 0.00032500000000000004, 'epoch': 7.0}\n",
      "{'eval_loss': 0.4335898756980896, 'eval_accuracy': 0.8014, 'eval_runtime': 12.5875, 'eval_samples_per_second': 1986.1, 'eval_steps_per_second': 39.722, 'epoch': 7.0}\n",
      "{'loss': 0.3849, 'learning_rate': 0.0003, 'epoch': 8.0}\n",
      "{'eval_loss': 0.38812774419784546, 'eval_accuracy': 0.82412, 'eval_runtime': 12.3958, 'eval_samples_per_second': 2016.818, 'eval_steps_per_second': 40.336, 'epoch': 8.0}\n",
      "{'loss': 0.3824, 'learning_rate': 0.000275, 'epoch': 9.0}\n",
      "{'eval_loss': 0.39461904764175415, 'eval_accuracy': 0.82172, 'eval_runtime': 12.3011, 'eval_samples_per_second': 2032.335, 'eval_steps_per_second': 40.647, 'epoch': 9.0}\n",
      "{'loss': 0.3806, 'learning_rate': 0.00025, 'epoch': 10.0}\n",
      "{'eval_loss': 0.3994896113872528, 'eval_accuracy': 0.82012, 'eval_runtime': 12.3354, 'eval_samples_per_second': 2026.691, 'eval_steps_per_second': 40.534, 'epoch': 10.0}\n",
      "{'loss': 0.3808, 'learning_rate': 0.00022500000000000002, 'epoch': 11.0}\n",
      "{'eval_loss': 0.3921637535095215, 'eval_accuracy': 0.82432, 'eval_runtime': 12.3434, 'eval_samples_per_second': 2025.379, 'eval_steps_per_second': 40.508, 'epoch': 11.0}\n",
      "{'loss': 0.3772, 'learning_rate': 0.0002, 'epoch': 12.0}\n",
      "{'eval_loss': 0.38855648040771484, 'eval_accuracy': 0.82572, 'eval_runtime': 12.5638, 'eval_samples_per_second': 1989.85, 'eval_steps_per_second': 39.797, 'epoch': 12.0}\n",
      "{'loss': 0.3753, 'learning_rate': 0.000175, 'epoch': 13.0}\n",
      "{'eval_loss': 0.39022910594940186, 'eval_accuracy': 0.82464, 'eval_runtime': 12.3059, 'eval_samples_per_second': 2031.545, 'eval_steps_per_second': 40.631, 'epoch': 13.0}\n",
      "{'loss': 0.3699, 'learning_rate': 0.00015, 'epoch': 14.0}\n",
      "{'eval_loss': 0.382769912481308, 'eval_accuracy': 0.82688, 'eval_runtime': 12.3981, 'eval_samples_per_second': 2016.446, 'eval_steps_per_second': 40.329, 'epoch': 14.0}\n",
      "{'loss': 0.3714, 'learning_rate': 0.000125, 'epoch': 15.0}\n",
      "{'eval_loss': 0.38474321365356445, 'eval_accuracy': 0.82724, 'eval_runtime': 12.3942, 'eval_samples_per_second': 2017.075, 'eval_steps_per_second': 40.342, 'epoch': 15.0}\n",
      "{'loss': 0.368, 'learning_rate': 0.0001, 'epoch': 16.0}\n",
      "{'eval_loss': 0.38100531697273254, 'eval_accuracy': 0.82952, 'eval_runtime': 12.3688, 'eval_samples_per_second': 2021.212, 'eval_steps_per_second': 40.424, 'epoch': 16.0}\n",
      "{'loss': 0.366, 'learning_rate': 7.5e-05, 'epoch': 17.0}\n",
      "{'eval_loss': 0.39097222685813904, 'eval_accuracy': 0.82468, 'eval_runtime': 12.388, 'eval_samples_per_second': 2018.085, 'eval_steps_per_second': 40.362, 'epoch': 17.0}\n",
      "{'loss': 0.3646, 'learning_rate': 5e-05, 'epoch': 18.0}\n",
      "{'eval_loss': 0.3816598355770111, 'eval_accuracy': 0.82936, 'eval_runtime': 12.4422, 'eval_samples_per_second': 2009.299, 'eval_steps_per_second': 40.186, 'epoch': 18.0}\n",
      "{'loss': 0.3619, 'learning_rate': 2.5e-05, 'epoch': 19.0}\n",
      "{'eval_loss': 0.37920963764190674, 'eval_accuracy': 0.83136, 'eval_runtime': 12.434, 'eval_samples_per_second': 2010.618, 'eval_steps_per_second': 40.212, 'epoch': 19.0}\n",
      "{'loss': 0.3625, 'learning_rate': 0.0, 'epoch': 20.0}\n",
      "{'eval_loss': 0.37971031665802, 'eval_accuracy': 0.82908, 'eval_runtime': 12.2927, 'eval_samples_per_second': 2033.73, 'eval_steps_per_second': 40.675, 'epoch': 20.0}\n",
      "{'train_runtime': 545.098, 'train_samples_per_second': 917.266, 'train_steps_per_second': 18.345, 'train_loss': 0.3893985336303711, 'epoch': 20.0}\n",
      "========================\n",
      "finished 0.15000000000000002\n",
      "========================\n",
      "{'loss': 0.5315, 'learning_rate': 0.000475, 'epoch': 1.0}\n",
      "{'eval_loss': 0.4609829783439636, 'eval_accuracy': 0.787, 'eval_runtime': 12.3409, 'eval_samples_per_second': 2025.792, 'eval_steps_per_second': 40.516, 'epoch': 1.0}\n",
      "{'loss': 0.421, 'learning_rate': 0.00045000000000000004, 'epoch': 2.0}\n",
      "{'eval_loss': 0.4162895679473877, 'eval_accuracy': 0.8106, 'eval_runtime': 12.3761, 'eval_samples_per_second': 2020.02, 'eval_steps_per_second': 40.4, 'epoch': 2.0}\n",
      "{'loss': 0.412, 'learning_rate': 0.000425, 'epoch': 3.0}\n",
      "{'eval_loss': 0.4076753258705139, 'eval_accuracy': 0.81428, 'eval_runtime': 12.2177, 'eval_samples_per_second': 2046.208, 'eval_steps_per_second': 40.924, 'epoch': 3.0}\n",
      "{'loss': 0.4022, 'learning_rate': 0.0004, 'epoch': 4.0}\n",
      "{'eval_loss': 0.4272376298904419, 'eval_accuracy': 0.80032, 'eval_runtime': 12.4787, 'eval_samples_per_second': 2003.417, 'eval_steps_per_second': 40.068, 'epoch': 4.0}\n",
      "{'loss': 0.4037, 'learning_rate': 0.000375, 'epoch': 5.0}\n",
      "{'eval_loss': 0.41216230392456055, 'eval_accuracy': 0.81012, 'eval_runtime': 12.4891, 'eval_samples_per_second': 2001.74, 'eval_steps_per_second': 40.035, 'epoch': 5.0}\n",
      "{'loss': 0.4013, 'learning_rate': 0.00035, 'epoch': 6.0}\n",
      "{'eval_loss': 0.42580679059028625, 'eval_accuracy': 0.8054, 'eval_runtime': 12.3345, 'eval_samples_per_second': 2026.837, 'eval_steps_per_second': 40.537, 'epoch': 6.0}\n",
      "{'loss': 0.3983, 'learning_rate': 0.00032500000000000004, 'epoch': 7.0}\n",
      "{'eval_loss': 0.4071105718612671, 'eval_accuracy': 0.81388, 'eval_runtime': 12.5084, 'eval_samples_per_second': 1998.657, 'eval_steps_per_second': 39.973, 'epoch': 7.0}\n",
      "{'loss': 0.3896, 'learning_rate': 0.0003, 'epoch': 8.0}\n",
      "{'eval_loss': 0.39176589250564575, 'eval_accuracy': 0.82336, 'eval_runtime': 12.5672, 'eval_samples_per_second': 1989.313, 'eval_steps_per_second': 39.786, 'epoch': 8.0}\n",
      "{'loss': 0.389, 'learning_rate': 0.000275, 'epoch': 9.0}\n",
      "{'eval_loss': 0.39804723858833313, 'eval_accuracy': 0.82004, 'eval_runtime': 12.4463, 'eval_samples_per_second': 2008.626, 'eval_steps_per_second': 40.173, 'epoch': 9.0}\n",
      "{'loss': 0.3851, 'learning_rate': 0.00025, 'epoch': 10.0}\n",
      "{'eval_loss': 0.3964769244194031, 'eval_accuracy': 0.82396, 'eval_runtime': 12.5936, 'eval_samples_per_second': 1985.128, 'eval_steps_per_second': 39.703, 'epoch': 10.0}\n",
      "{'loss': 0.3847, 'learning_rate': 0.00022500000000000002, 'epoch': 11.0}\n",
      "{'eval_loss': 0.4045780599117279, 'eval_accuracy': 0.8168, 'eval_runtime': 12.6479, 'eval_samples_per_second': 1976.606, 'eval_steps_per_second': 39.532, 'epoch': 11.0}\n",
      "{'loss': 0.3832, 'learning_rate': 0.0002, 'epoch': 12.0}\n",
      "{'eval_loss': 0.3943738639354706, 'eval_accuracy': 0.82084, 'eval_runtime': 12.3994, 'eval_samples_per_second': 2016.232, 'eval_steps_per_second': 40.325, 'epoch': 12.0}\n",
      "{'loss': 0.3828, 'learning_rate': 0.000175, 'epoch': 13.0}\n",
      "{'eval_loss': 0.39347583055496216, 'eval_accuracy': 0.82204, 'eval_runtime': 12.4886, 'eval_samples_per_second': 2001.832, 'eval_steps_per_second': 40.037, 'epoch': 13.0}\n",
      "{'loss': 0.3763, 'learning_rate': 0.00015, 'epoch': 14.0}\n",
      "{'eval_loss': 0.3869040608406067, 'eval_accuracy': 0.82632, 'eval_runtime': 12.643, 'eval_samples_per_second': 1977.376, 'eval_steps_per_second': 39.548, 'epoch': 14.0}\n",
      "{'loss': 0.3775, 'learning_rate': 0.000125, 'epoch': 15.0}\n",
      "{'eval_loss': 0.390380859375, 'eval_accuracy': 0.82408, 'eval_runtime': 12.4868, 'eval_samples_per_second': 2002.108, 'eval_steps_per_second': 40.042, 'epoch': 15.0}\n",
      "{'loss': 0.3741, 'learning_rate': 0.0001, 'epoch': 16.0}\n",
      "{'eval_loss': 0.38466933369636536, 'eval_accuracy': 0.82624, 'eval_runtime': 12.5312, 'eval_samples_per_second': 1995.014, 'eval_steps_per_second': 39.9, 'epoch': 16.0}\n",
      "{'loss': 0.372, 'learning_rate': 7.5e-05, 'epoch': 17.0}\n",
      "{'eval_loss': 0.39704227447509766, 'eval_accuracy': 0.81944, 'eval_runtime': 12.3383, 'eval_samples_per_second': 2026.214, 'eval_steps_per_second': 40.524, 'epoch': 17.0}\n",
      "{'loss': 0.3717, 'learning_rate': 5e-05, 'epoch': 18.0}\n",
      "{'eval_loss': 0.3874140679836273, 'eval_accuracy': 0.82832, 'eval_runtime': 12.5383, 'eval_samples_per_second': 1993.889, 'eval_steps_per_second': 39.878, 'epoch': 18.0}\n",
      "{'loss': 0.3677, 'learning_rate': 2.5e-05, 'epoch': 19.0}\n",
      "{'eval_loss': 0.3842221796512604, 'eval_accuracy': 0.8278, 'eval_runtime': 12.4117, 'eval_samples_per_second': 2014.235, 'eval_steps_per_second': 40.285, 'epoch': 19.0}\n",
      "{'loss': 0.369, 'learning_rate': 0.0, 'epoch': 20.0}\n",
      "{'eval_loss': 0.3850238025188446, 'eval_accuracy': 0.82716, 'eval_runtime': 12.2938, 'eval_samples_per_second': 2033.539, 'eval_steps_per_second': 40.671, 'epoch': 20.0}\n",
      "{'train_runtime': 547.4837, 'train_samples_per_second': 913.269, 'train_steps_per_second': 18.265, 'train_loss': 0.3946308776855469, 'epoch': 20.0}\n",
      "========================\n",
      "finished 0.2\n",
      "========================\n"
     ]
    }
   ],
   "source": [
    "X = []\n",
    "Y = []\n",
    "ts = []\n",
    "for i in range(0,5):\n",
    "  dropout = i*0.05\n",
    "  t = train_model(dropout=dropout)\n",
    "  ts.append(t)\n",
    "  acc = get_XY(t)[1][-1]\n",
    "  X.append(dropout)\n",
    "  Y.append(acc)\n",
    "  print(f\"========================\\nfinished {dropout}\\n========================\")\n"
   ]
  },
  {
   "cell_type": "code",
   "execution_count": 17,
   "metadata": {
    "colab": {
     "base_uri": "https://localhost:8080/",
     "height": 265
    },
    "id": "FkGxPV2GDKhg",
    "outputId": "2ef7c43c-086d-49e0-a173-8dc1011b2abf"
   },
   "outputs": [
    {
     "data": {
      "image/png": "[encoded data removed]",
      "text/plain": [
       "<Figure size 432x288 with 1 Axes>"
      ]
     },
     "metadata": {
      "needs_background": "light"
     },
     "output_type": "display_data"
    }
   ],
   "source": [
    "plt.clf()\n",
    "plt.plot(X,Y)\n",
    "plt.show()"
   ]
  },
  {
   "cell_type": "markdown",
   "metadata": {
    "id": "Nm7yM9ZmQdFQ"
   },
   "source": [
    "# 5c"
   ]
  },
  {
   "cell_type": "code",
   "execution_count": null,
   "metadata": {
    "colab": {
     "base_uri": "https://localhost:8080/"
    },
    "id": "UUEtbD14Mc5q",
    "outputId": "0f362d19-01af-4796-9c43-2378f95f0b90"
   },
   "outputs": [
    {
     "name": "stdout",
     "output_type": "stream",
     "text": [
      "{'loss': 0.6827, 'learning_rate': 0.000475, 'epoch': 1.0}\n",
      "{'eval_loss': 0.6739585995674133, 'eval_accuracy': 0.64844, 'eval_runtime': 11.8621, 'eval_samples_per_second': 2107.552, 'eval_steps_per_second': 42.151, 'epoch': 1.0}\n",
      "{'loss': 0.665, 'learning_rate': 0.00045000000000000004, 'epoch': 2.0}\n",
      "{'eval_loss': 0.6605799198150635, 'eval_accuracy': 0.65804, 'eval_runtime': 11.8983, 'eval_samples_per_second': 2101.138, 'eval_steps_per_second': 42.023, 'epoch': 2.0}\n",
      "{'loss': 0.6526, 'learning_rate': 0.000425, 'epoch': 3.0}\n",
      "{'eval_loss': 0.6505511999130249, 'eval_accuracy': 0.6686, 'eval_runtime': 11.6953, 'eval_samples_per_second': 2137.612, 'eval_steps_per_second': 42.752, 'epoch': 3.0}\n",
      "{'loss': 0.6431, 'learning_rate': 0.0004, 'epoch': 4.0}\n",
      "{'eval_loss': 0.6426485776901245, 'eval_accuracy': 0.67676, 'eval_runtime': 11.9854, 'eval_samples_per_second': 2085.864, 'eval_steps_per_second': 41.717, 'epoch': 4.0}\n",
      "{'loss': 0.6358, 'learning_rate': 0.000375, 'epoch': 5.0}\n",
      "{'eval_loss': 0.6361152529716492, 'eval_accuracy': 0.68108, 'eval_runtime': 11.6295, 'eval_samples_per_second': 2149.704, 'eval_steps_per_second': 42.994, 'epoch': 5.0}\n",
      "{'loss': 0.6294, 'learning_rate': 0.00035, 'epoch': 6.0}\n",
      "{'eval_loss': 0.6306920647621155, 'eval_accuracy': 0.6872, 'eval_runtime': 11.7552, 'eval_samples_per_second': 2126.718, 'eval_steps_per_second': 42.534, 'epoch': 6.0}\n",
      "{'loss': 0.624, 'learning_rate': 0.00032500000000000004, 'epoch': 7.0}\n",
      "{'eval_loss': 0.6261343359947205, 'eval_accuracy': 0.69088, 'eval_runtime': 11.9886, 'eval_samples_per_second': 2085.318, 'eval_steps_per_second': 41.706, 'epoch': 7.0}\n",
      "{'loss': 0.6194, 'learning_rate': 0.0003, 'epoch': 8.0}\n",
      "{'eval_loss': 0.6218882203102112, 'eval_accuracy': 0.69584, 'eval_runtime': 11.7335, 'eval_samples_per_second': 2130.66, 'eval_steps_per_second': 42.613, 'epoch': 8.0}\n",
      "{'loss': 0.6146, 'learning_rate': 0.000275, 'epoch': 9.0}\n",
      "{'eval_loss': 0.618338942527771, 'eval_accuracy': 0.69952, 'eval_runtime': 11.9628, 'eval_samples_per_second': 2089.811, 'eval_steps_per_second': 41.796, 'epoch': 9.0}\n",
      "{'loss': 0.6117, 'learning_rate': 0.00025, 'epoch': 10.0}\n",
      "{'eval_loss': 0.6152848601341248, 'eval_accuracy': 0.70444, 'eval_runtime': 11.5664, 'eval_samples_per_second': 2161.442, 'eval_steps_per_second': 43.229, 'epoch': 10.0}\n",
      "{'loss': 0.6083, 'learning_rate': 0.00022500000000000002, 'epoch': 11.0}\n",
      "{'eval_loss': 0.6125178933143616, 'eval_accuracy': 0.70744, 'eval_runtime': 11.4194, 'eval_samples_per_second': 2189.255, 'eval_steps_per_second': 43.785, 'epoch': 11.0}\n",
      "{'loss': 0.606, 'learning_rate': 0.0002, 'epoch': 12.0}\n",
      "{'eval_loss': 0.6101782321929932, 'eval_accuracy': 0.70872, 'eval_runtime': 11.6225, 'eval_samples_per_second': 2151.003, 'eval_steps_per_second': 43.02, 'epoch': 12.0}\n",
      "{'loss': 0.6033, 'learning_rate': 0.000175, 'epoch': 13.0}\n",
      "{'eval_loss': 0.608345627784729, 'eval_accuracy': 0.70856, 'eval_runtime': 11.5491, 'eval_samples_per_second': 2164.679, 'eval_steps_per_second': 43.294, 'epoch': 13.0}\n",
      "{'loss': 0.6015, 'learning_rate': 0.00015, 'epoch': 14.0}\n",
      "{'eval_loss': 0.6063922047615051, 'eval_accuracy': 0.71376, 'eval_runtime': 11.6872, 'eval_samples_per_second': 2139.101, 'eval_steps_per_second': 42.782, 'epoch': 14.0}\n",
      "{'loss': 0.6009, 'learning_rate': 0.000125, 'epoch': 15.0}\n",
      "{'eval_loss': 0.6049497723579407, 'eval_accuracy': 0.71476, 'eval_runtime': 11.6199, 'eval_samples_per_second': 2151.487, 'eval_steps_per_second': 43.03, 'epoch': 15.0}\n",
      "{'loss': 0.5982, 'learning_rate': 0.0001, 'epoch': 16.0}\n",
      "{'eval_loss': 0.6038379073143005, 'eval_accuracy': 0.71548, 'eval_runtime': 11.6655, 'eval_samples_per_second': 2143.066, 'eval_steps_per_second': 42.861, 'epoch': 16.0}\n",
      "{'loss': 0.5975, 'learning_rate': 7.5e-05, 'epoch': 17.0}\n",
      "{'eval_loss': 0.6029449105262756, 'eval_accuracy': 0.7166, 'eval_runtime': 11.7257, 'eval_samples_per_second': 2132.075, 'eval_steps_per_second': 42.641, 'epoch': 17.0}\n",
      "{'loss': 0.5966, 'learning_rate': 5e-05, 'epoch': 18.0}\n",
      "{'eval_loss': 0.6022725105285645, 'eval_accuracy': 0.71784, 'eval_runtime': 11.7149, 'eval_samples_per_second': 2134.039, 'eval_steps_per_second': 42.681, 'epoch': 18.0}\n",
      "{'loss': 0.5968, 'learning_rate': 2.5e-05, 'epoch': 19.0}\n",
      "{'eval_loss': 0.6018955707550049, 'eval_accuracy': 0.7184, 'eval_runtime': 11.5761, 'eval_samples_per_second': 2159.631, 'eval_steps_per_second': 43.193, 'epoch': 19.0}\n",
      "{'loss': 0.5964, 'learning_rate': 0.0, 'epoch': 20.0}\n",
      "{'eval_loss': 0.6017681956291199, 'eval_accuracy': 0.71836, 'eval_runtime': 11.8961, 'eval_samples_per_second': 2101.521, 'eval_steps_per_second': 42.03, 'epoch': 20.0}\n",
      "{'train_runtime': 504.6481, 'train_samples_per_second': 990.789, 'train_steps_per_second': 19.816, 'train_loss': 0.6191827301025391, 'epoch': 20.0}\n",
      "========================\n",
      "finished 0\n",
      "========================\n",
      "{'loss': 0.6155, 'learning_rate': 0.000475, 'epoch': 1.0}\n",
      "{'eval_loss': 0.5485309958457947, 'eval_accuracy': 0.75464, 'eval_runtime': 11.8644, 'eval_samples_per_second': 2107.148, 'eval_steps_per_second': 42.143, 'epoch': 1.0}\n",
      "{'loss': 0.5027, 'learning_rate': 0.00045000000000000004, 'epoch': 2.0}\n",
      "{'eval_loss': 0.4810987412929535, 'eval_accuracy': 0.79572, 'eval_runtime': 11.782, 'eval_samples_per_second': 2121.874, 'eval_steps_per_second': 42.437, 'epoch': 2.0}\n",
      "{'loss': 0.4551, 'learning_rate': 0.000425, 'epoch': 3.0}\n",
      "{'eval_loss': 0.4480053782463074, 'eval_accuracy': 0.80616, 'eval_runtime': 11.8223, 'eval_samples_per_second': 2114.656, 'eval_steps_per_second': 42.293, 'epoch': 3.0}\n",
      "{'loss': 0.433, 'learning_rate': 0.0004, 'epoch': 4.0}\n",
      "{'eval_loss': 0.443848192691803, 'eval_accuracy': 0.80556, 'eval_runtime': 11.733, 'eval_samples_per_second': 2130.751, 'eval_steps_per_second': 42.615, 'epoch': 4.0}\n",
      "{'loss': 0.4213, 'learning_rate': 0.000375, 'epoch': 5.0}\n",
      "{'eval_loss': 0.43645551800727844, 'eval_accuracy': 0.80836, 'eval_runtime': 11.514, 'eval_samples_per_second': 2171.278, 'eval_steps_per_second': 43.426, 'epoch': 5.0}\n",
      "{'loss': 0.4111, 'learning_rate': 0.00035, 'epoch': 6.0}\n",
      "{'eval_loss': 0.41913866996765137, 'eval_accuracy': 0.81552, 'eval_runtime': 11.7476, 'eval_samples_per_second': 2128.092, 'eval_steps_per_second': 42.562, 'epoch': 6.0}\n",
      "{'loss': 0.4018, 'learning_rate': 0.00032500000000000004, 'epoch': 7.0}\n",
      "{'eval_loss': 0.4066512882709503, 'eval_accuracy': 0.82224, 'eval_runtime': 11.6354, 'eval_samples_per_second': 2148.617, 'eval_steps_per_second': 42.972, 'epoch': 7.0}\n",
      "{'loss': 0.3989, 'learning_rate': 0.0003, 'epoch': 8.0}\n",
      "{'eval_loss': 0.4211047291755676, 'eval_accuracy': 0.81236, 'eval_runtime': 11.3959, 'eval_samples_per_second': 2193.767, 'eval_steps_per_second': 43.875, 'epoch': 8.0}\n",
      "{'loss': 0.3929, 'learning_rate': 0.000275, 'epoch': 9.0}\n",
      "{'eval_loss': 0.4038389325141907, 'eval_accuracy': 0.82188, 'eval_runtime': 11.4031, 'eval_samples_per_second': 2192.39, 'eval_steps_per_second': 43.848, 'epoch': 9.0}\n",
      "{'loss': 0.3887, 'learning_rate': 0.00025, 'epoch': 10.0}\n",
      "{'eval_loss': 0.4013558328151703, 'eval_accuracy': 0.82256, 'eval_runtime': 11.4981, 'eval_samples_per_second': 2174.274, 'eval_steps_per_second': 43.485, 'epoch': 10.0}\n",
      "{'loss': 0.3862, 'learning_rate': 0.00022500000000000002, 'epoch': 11.0}\n",
      "{'eval_loss': 0.3965175747871399, 'eval_accuracy': 0.82584, 'eval_runtime': 11.7552, 'eval_samples_per_second': 2126.725, 'eval_steps_per_second': 42.535, 'epoch': 11.0}\n",
      "{'loss': 0.3855, 'learning_rate': 0.0002, 'epoch': 12.0}\n",
      "{'eval_loss': 0.39197954535484314, 'eval_accuracy': 0.82832, 'eval_runtime': 11.8195, 'eval_samples_per_second': 2115.141, 'eval_steps_per_second': 42.303, 'epoch': 12.0}\n",
      "{'loss': 0.383, 'learning_rate': 0.000175, 'epoch': 13.0}\n",
      "{'eval_loss': 0.39341500401496887, 'eval_accuracy': 0.82632, 'eval_runtime': 11.6423, 'eval_samples_per_second': 2147.342, 'eval_steps_per_second': 42.947, 'epoch': 13.0}\n",
      "{'loss': 0.3813, 'learning_rate': 0.00015, 'epoch': 14.0}\n",
      "{'eval_loss': 0.39024487137794495, 'eval_accuracy': 0.82804, 'eval_runtime': 11.5879, 'eval_samples_per_second': 2157.427, 'eval_steps_per_second': 43.149, 'epoch': 14.0}\n",
      "{'loss': 0.3799, 'learning_rate': 0.000125, 'epoch': 15.0}\n",
      "{'eval_loss': 0.390015184879303, 'eval_accuracy': 0.82744, 'eval_runtime': 11.6824, 'eval_samples_per_second': 2139.973, 'eval_steps_per_second': 42.799, 'epoch': 15.0}\n",
      "{'loss': 0.3779, 'learning_rate': 0.0001, 'epoch': 16.0}\n",
      "{'eval_loss': 0.38830894231796265, 'eval_accuracy': 0.82964, 'eval_runtime': 11.5091, 'eval_samples_per_second': 2172.186, 'eval_steps_per_second': 43.444, 'epoch': 16.0}\n",
      "{'loss': 0.3765, 'learning_rate': 7.5e-05, 'epoch': 17.0}\n"
     ]
    }
   ],
   "source": [
    "X = []\n",
    "Y = []\n",
    "tsl = []\n",
    "for l in range(0,4):\n",
    "  t = train_model(layers=l)\n",
    "  tsl.append(t)\n",
    "  acc = get_XY(t)[1][-1]\n",
    "  X.append(l)\n",
    "  Y.append(acc)\n",
    "  print(f\"========================\\nfinished {l}\\n========================\")"
   ]
  },
  {
   "cell_type": "code",
   "execution_count": null,
   "metadata": {
    "id": "2vm2AMqdMpcp"
   },
   "outputs": [],
   "source": [
    "plt.clf()\n",
    "plt.plot(X,Y)\n",
    "plt.show()"
   ]
  },
  {
   "cell_type": "markdown",
   "metadata": {
    "id": "-V_w4SiKQfqe"
   },
   "source": [
    "# 5d"
   ]
  },
  {
   "cell_type": "code",
   "execution_count": null,
   "metadata": {
    "id": "8e1s9RdUQfYH"
   },
   "outputs": [],
   "source": [
    "X = [nn.ReLU, nn.Sigmoid, nn.Tanh]\n",
    "Y = []\n",
    "tsl = []\n",
    "for act in X:\n",
    "  t = train_model(activation=act)\n",
    "  tsl.append(t)\n",
    "  acc = get_XY(t)[1][-1]\n",
    "  Y.append(acc)\n",
    "  print(f\"========================\\nfinished{act}\\n========================\")"
   ]
  },
  {
   "cell_type": "code",
   "execution_count": null,
   "metadata": {
    "id": "FUzrphedQhX6"
   },
   "outputs": [],
   "source": [
    "for t,title in zip(tsl,['ReLU','Sigmoid',r'$tanh$']):\n",
    "  plot_trainer(t,title)"
   ]
  }
 ],
 "metadata": {
  "accelerator": "GPU",
  "colab": {
   "collapsed_sections": [],
   "name": "Copy of q5_DAN.ipynb",
   "provenance": []
  },
  "kernelspec": {
   "display_name": "Python 3",
   "language": "python",
   "name": "python3"
  },
  "language_info": {
   "codemirror_mode": {
    "name": "ipython",
    "version": 3
   },
   "file_extension": ".py",
   "mimetype": "text/x-python",
   "name": "python",
   "nbconvert_exporter": "python",
   "pygments_lexer": "ipython3",
   "version": "3.8.8"
  },
  "widgets": {
   "application/vnd.jupyter.widget-state+json": {
    "3aafa2112ac44f6e88905a1f28699886": {
     "model_module": "@jupyter-widgets/controls",
     "model_module_version": "1.5.0",
     "model_name": "DescriptionStyleModel",
     "state": {
      "_model_module": "@jupyter-widgets/controls",
      "_model_module_version": "1.5.0",
      "_model_name": "DescriptionStyleModel",
      "_view_count": null,
      "_view_module": "@jupyter-widgets/base",
      "_view_module_version": "1.2.0",
      "_view_name": "StyleView",
      "description_width": ""
     }
    },
    "9825f128fc594d769bbde6de53354e59": {
     "model_module": "@jupyter-widgets/controls",
     "model_module_version": "1.5.0",
     "model_name": "HBoxModel",
     "state": {
      "_dom_classes": [],
      "_model_module": "@jupyter-widgets/controls",
      "_model_module_version": "1.5.0",
      "_model_name": "HBoxModel",
      "_view_count": null,
      "_view_module": "@jupyter-widgets/controls",
      "_view_module_version": "1.5.0",
      "_view_name": "HBoxView",
      "box_style": "",
      "children": [
       "IPY_MODEL_cd0f85628e0b443b8211a21746cb04f5",
       "IPY_MODEL_ea5ebde5bfc749648c6bc868ff353231",
       "IPY_MODEL_d0cd67a204e24a5e95b13cd06b4e426b"
      ],
      "layout": "IPY_MODEL_d79fe6aa805243ba894c6899767d8a87"
     }
    },
    "cd0f85628e0b443b8211a21746cb04f5": {
     "model_module": "@jupyter-widgets/controls",
     "model_module_version": "1.5.0",
     "model_name": "HTMLModel",
     "state": {
      "_dom_classes": [],
      "_model_module": "@jupyter-widgets/controls",
      "_model_module_version": "1.5.0",
      "_model_name": "HTMLModel",
      "_view_count": null,
      "_view_module": "@jupyter-widgets/controls",
      "_view_module_version": "1.5.0",
      "_view_name": "HTMLView",
      "description": "",
      "description_tooltip": null,
      "layout": "IPY_MODEL_e8b3f5b297ef4a29bd06136514426ace",
      "placeholder": "​",
      "style": "IPY_MODEL_3aafa2112ac44f6e88905a1f28699886",
      "value": "100%"
     }
    },
    "d0cd67a204e24a5e95b13cd06b4e426b": {
     "model_module": "@jupyter-widgets/controls",
     "model_module_version": "1.5.0",
     "model_name": "HTMLModel",
     "state": {
      "_dom_classes": [],
      "_model_module": "@jupyter-widgets/controls",
      "_model_module_version": "1.5.0",
      "_model_name": "HTMLModel",
      "_view_count": null,
      "_view_module": "@jupyter-widgets/controls",
      "_view_module_version": "1.5.0",
      "_view_name": "HTMLView",
      "description": "",
      "description_tooltip": null,
      "layout": "IPY_MODEL_f1226cff73b549fc98cdb886ed4fa42b",
      "placeholder": "​",
      "style": "IPY_MODEL_e24cb01633454e568f949fd51d029342",
      "value": " 3/3 [00:00&lt;00:00, 50.78it/s]"
     }
    },
    "d79fe6aa805243ba894c6899767d8a87": {
     "model_module": "@jupyter-widgets/base",
     "model_module_version": "1.2.0",
     "model_name": "LayoutModel",
     "state": {
      "_model_module": "@jupyter-widgets/base",
      "_model_module_version": "1.2.0",
      "_model_name": "LayoutModel",
      "_view_count": null,
      "_view_module": "@jupyter-widgets/base",
      "_view_module_version": "1.2.0",
      "_view_name": "LayoutView",
      "align_content": null,
      "align_items": null,
      "align_self": null,
      "border": null,
      "bottom": null,
      "display": null,
      "flex": null,
      "flex_flow": null,
      "grid_area": null,
      "grid_auto_columns": null,
      "grid_auto_flow": null,
      "grid_auto_rows": null,
      "grid_column": null,
      "grid_gap": null,
      "grid_row": null,
      "grid_template_areas": null,
      "grid_template_columns": null,
      "grid_template_rows": null,
      "height": null,
      "justify_content": null,
      "justify_items": null,
      "left": null,
      "margin": null,
      "max_height": null,
      "max_width": null,
      "min_height": null,
      "min_width": null,
      "object_fit": null,
      "object_position": null,
      "order": null,
      "overflow": null,
      "overflow_x": null,
      "overflow_y": null,
      "padding": null,
      "right": null,
      "top": null,
      "visibility": null,
      "width": null
     }
    },
    "db9e737ef3a14cfdab145e0ea01b0b28": {
     "model_module": "@jupyter-widgets/base",
     "model_module_version": "1.2.0",
     "model_name": "LayoutModel",
     "state": {
      "_model_module": "@jupyter-widgets/base",
      "_model_module_version": "1.2.0",
      "_model_name": "LayoutModel",
      "_view_count": null,
      "_view_module": "@jupyter-widgets/base",
      "_view_module_version": "1.2.0",
      "_view_name": "LayoutView",
      "align_content": null,
      "align_items": null,
      "align_self": null,
      "border": null,
      "bottom": null,
      "display": null,
      "flex": null,
      "flex_flow": null,
      "grid_area": null,
      "grid_auto_columns": null,
      "grid_auto_flow": null,
      "grid_auto_rows": null,
      "grid_column": null,
      "grid_gap": null,
      "grid_row": null,
      "grid_template_areas": null,
      "grid_template_columns": null,
      "grid_template_rows": null,
      "height": null,
      "justify_content": null,
      "justify_items": null,
      "left": null,
      "margin": null,
      "max_height": null,
      "max_width": null,
      "min_height": null,
      "min_width": null,
      "object_fit": null,
      "object_position": null,
      "order": null,
      "overflow": null,
      "overflow_x": null,
      "overflow_y": null,
      "padding": null,
      "right": null,
      "top": null,
      "visibility": null,
      "width": null
     }
    },
    "e24cb01633454e568f949fd51d029342": {
     "model_module": "@jupyter-widgets/controls",
     "model_module_version": "1.5.0",
     "model_name": "DescriptionStyleModel",
     "state": {
      "_model_module": "@jupyter-widgets/controls",
      "_model_module_version": "1.5.0",
      "_model_name": "DescriptionStyleModel",
      "_view_count": null,
      "_view_module": "@jupyter-widgets/base",
      "_view_module_version": "1.2.0",
      "_view_name": "StyleView",
      "description_width": ""
     }
    },
    "e8b3f5b297ef4a29bd06136514426ace": {
     "model_module": "@jupyter-widgets/base",
     "model_module_version": "1.2.0",
     "model_name": "LayoutModel",
     "state": {
      "_model_module": "@jupyter-widgets/base",
      "_model_module_version": "1.2.0",
      "_model_name": "LayoutModel",
      "_view_count": null,
      "_view_module": "@jupyter-widgets/base",
      "_view_module_version": "1.2.0",
      "_view_name": "LayoutView",
      "align_content": null,
      "align_items": null,
      "align_self": null,
      "border": null,
      "bottom": null,
      "display": null,
      "flex": null,
      "flex_flow": null,
      "grid_area": null,
      "grid_auto_columns": null,
      "grid_auto_flow": null,
      "grid_auto_rows": null,
      "grid_column": null,
      "grid_gap": null,
      "grid_row": null,
      "grid_template_areas": null,
      "grid_template_columns": null,
      "grid_template_rows": null,
      "height": null,
      "justify_content": null,
      "justify_items": null,
      "left": null,
      "margin": null,
      "max_height": null,
      "max_width": null,
      "min_height": null,
      "min_width": null,
      "object_fit": null,
      "object_position": null,
      "order": null,
      "overflow": null,
      "overflow_x": null,
      "overflow_y": null,
      "padding": null,
      "right": null,
      "top": null,
      "visibility": null,
      "width": null
     }
    },
    "ea5ebde5bfc749648c6bc868ff353231": {
     "model_module": "@jupyter-widgets/controls",
     "model_module_version": "1.5.0",
     "model_name": "FloatProgressModel",
     "state": {
      "_dom_classes": [],
      "_model_module": "@jupyter-widgets/controls",
      "_model_module_version": "1.5.0",
      "_model_name": "FloatProgressModel",
      "_view_count": null,
      "_view_module": "@jupyter-widgets/controls",
      "_view_module_version": "1.5.0",
      "_view_name": "ProgressView",
      "bar_style": "success",
      "description": "",
      "description_tooltip": null,
      "layout": "IPY_MODEL_db9e737ef3a14cfdab145e0ea01b0b28",
      "max": 3,
      "min": 0,
      "orientation": "horizontal",
      "style": "IPY_MODEL_edfc427e791c4f17a529aafbfe70cadc",
      "value": 3
     }
    },
    "edfc427e791c4f17a529aafbfe70cadc": {
     "model_module": "@jupyter-widgets/controls",
     "model_module_version": "1.5.0",
     "model_name": "ProgressStyleModel",
     "state": {
      "_model_module": "@jupyter-widgets/controls",
      "_model_module_version": "1.5.0",
      "_model_name": "ProgressStyleModel",
      "_view_count": null,
      "_view_module": "@jupyter-widgets/base",
      "_view_module_version": "1.2.0",
      "_view_name": "StyleView",
      "bar_color": null,
      "description_width": ""
     }
    },
    "f1226cff73b549fc98cdb886ed4fa42b": {
     "model_module": "@jupyter-widgets/base",
     "model_module_version": "1.2.0",
     "model_name": "LayoutModel",
     "state": {
      "_model_module": "@jupyter-widgets/base",
      "_model_module_version": "1.2.0",
      "_model_name": "LayoutModel",
      "_view_count": null,
      "_view_module": "@jupyter-widgets/base",
      "_view_module_version": "1.2.0",
      "_view_name": "LayoutView",
      "align_content": null,
      "align_items": null,
      "align_self": null,
      "border": null,
      "bottom": null,
      "display": null,
      "flex": null,
      "flex_flow": null,
      "grid_area": null,
      "grid_auto_columns": null,
      "grid_auto_flow": null,
      "grid_auto_rows": null,
      "grid_column": null,
      "grid_gap": null,
      "grid_row": null,
      "grid_template_areas": null,
      "grid_template_columns": null,
      "grid_template_rows": null,
      "height": null,
      "justify_content": null,
      "justify_items": null,
      "left": null,
      "margin": null,
      "max_height": null,
      "max_width": null,
      "min_height": null,
      "min_width": null,
      "object_fit": null,
      "object_position": null,
      "order": null,
      "overflow": null,
      "overflow_x": null,
      "overflow_y": null,
      "padding": null,
      "right": null,
      "top": null,
      "visibility": null,
      "width": null
     }
    }
   }
  }
 },
 "nbformat": 4,
 "nbformat_minor": 1
}